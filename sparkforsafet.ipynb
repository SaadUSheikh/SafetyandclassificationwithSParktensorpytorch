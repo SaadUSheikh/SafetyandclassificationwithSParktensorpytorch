{
  "nbformat": 4,
  "nbformat_minor": 0,
  "metadata": {
    "colab": {
      "provenance": [],
      "authorship_tag": "ABX9TyN3w9jSWNvY4sc1MIqjSlhZ",
      "include_colab_link": true
    },
    "kernelspec": {
      "name": "python3",
      "display_name": "Python 3"
    },
    "language_info": {
      "name": "python"
    }
  },
  "cells": [
    {
      "cell_type": "markdown",
      "metadata": {
        "id": "view-in-github",
        "colab_type": "text"
      },
      "source": [
        "<a href=\"https://colab.research.google.com/github/SaadUSheikh/SafetyandclassificationwithSParktensorpytorch/blob/main/sparkforsafet.ipynb\" target=\"_parent\"><img src=\"https://colab.research.google.com/assets/colab-badge.svg\" alt=\"Open In Colab\"/></a>"
      ]
    },
    {
      "cell_type": "code",
      "execution_count": 1,
      "metadata": {
        "colab": {
          "base_uri": "https://localhost:8080/"
        },
        "id": "tj601NDdC_DC",
        "outputId": "27b7c1ab-25f4-467f-a18f-ec2163732419"
      },
      "outputs": [
        {
          "output_type": "stream",
          "name": "stdout",
          "text": [
            "Requirement already satisfied: pyspark in /usr/local/lib/python3.11/dist-packages (3.5.5)\n",
            "Requirement already satisfied: py4j==0.10.9.7 in /usr/local/lib/python3.11/dist-packages (from pyspark) (0.10.9.7)\n"
          ]
        }
      ],
      "source": [
        "# Install PySpark if not already installed\n",
        "!pip install pyspark\n"
      ]
    },
    {
      "cell_type": "code",
      "source": [
        "from pyspark.sql import SparkSession\n",
        "\n",
        "# Start Spark session\n",
        "spark = SparkSession.builder.appName(\"VictoriaRoadCrashAnalysis\").getOrCreate()\n",
        "\n",
        "# Load the dataset\n",
        "file_path = 'Victoria_Road_Crash_Dataset_core.csv'\n",
        "df = spark.read.csv(file_path, header=True, inferSchema=True)\n",
        "\n",
        "# Show first few rows\n",
        "print(df.columns)\n",
        "\n",
        "df.show(5)\n"
      ],
      "metadata": {
        "colab": {
          "base_uri": "https://localhost:8080/"
        },
        "id": "CpbDVAopDCao",
        "outputId": "2cfd428c-99a3-4f28-cd1c-b7f32de6ce8b"
      },
      "execution_count": 13,
      "outputs": [
        {
          "output_type": "stream",
          "name": "stdout",
          "text": [
            "['ACCIDENT_NO', 'ACCIDENT_DATE', 'ACCIDENT_TIME', 'ACCIDENT_TYPE', 'DAY_OF_WEEK', 'DCA_CODE', 'DCA_CODE_DESCRIPTION', 'LIGHT_CONDITION', 'POLICE_ATTEND', 'ROAD_GEOMETRY', 'SEVERITY', 'SPEED_ZONE', 'RUN_OFFROAD', 'ROAD_NAME', 'ROAD_TYPE', 'ROAD_ROUTE_1', 'LGA_NAME', 'DTP_REGION', 'LATITUDE', 'LONGITUDE', 'VICGRID_X', 'VICGRID_Y', 'TOTAL_PERSONS', 'INJ_OR_FATAL', 'FATALITY', 'SERIOUSINJURY', 'OTHERINJURY', 'NONINJURED', 'MALES', 'FEMALES', 'BICYCLIST', 'PASSENGER', 'DRIVER', 'PEDESTRIAN', 'PILLION', 'MOTORCYCLIST', 'UNKNOWN', 'PED_CYCLIST_5_12', 'PED_CYCLIST_13_18', 'OLD_PED_65_AND_OVER', 'OLD_DRIVER_75_AND_OVER', 'YOUNG_DRIVER_18_25', 'NO_OF_VEHICLES', 'HEAVYVEHICLE', 'PASSENGERVEHICLE', 'MOTORCYCLE', 'PT_VEHICLE', 'DEG_URBAN_NAME', 'SRNS', 'RMA', 'DIVIDED', 'STAT_DIV_NAME']\n",
            "+------------+-------------+-------------+--------------------+-----------+--------+--------------------+--------------------+-------------+-------------------+--------------------+----------+-----------+-----------+---------+------------+--------------------+-------------+----------+----------+-----------+-----------+-------------+------------+--------+-------------+-----------+----------+-----+-------+---------+---------+------+----------+-------+------------+-------+----------------+-----------------+-------------------+----------------------+------------------+--------------+------------+----------------+----------+----------+--------------+----+----------------+---------+-------------+\n",
            "| ACCIDENT_NO|ACCIDENT_DATE|ACCIDENT_TIME|       ACCIDENT_TYPE|DAY_OF_WEEK|DCA_CODE|DCA_CODE_DESCRIPTION|     LIGHT_CONDITION|POLICE_ATTEND|      ROAD_GEOMETRY|            SEVERITY|SPEED_ZONE|RUN_OFFROAD|  ROAD_NAME|ROAD_TYPE|ROAD_ROUTE_1|            LGA_NAME|   DTP_REGION|  LATITUDE| LONGITUDE|  VICGRID_X|  VICGRID_Y|TOTAL_PERSONS|INJ_OR_FATAL|FATALITY|SERIOUSINJURY|OTHERINJURY|NONINJURED|MALES|FEMALES|BICYCLIST|PASSENGER|DRIVER|PEDESTRIAN|PILLION|MOTORCYCLIST|UNKNOWN|PED_CYCLIST_5_12|PED_CYCLIST_13_18|OLD_PED_65_AND_OVER|OLD_DRIVER_75_AND_OVER|YOUNG_DRIVER_18_25|NO_OF_VEHICLES|HEAVYVEHICLE|PASSENGERVEHICLE|MOTORCYCLE|PT_VEHICLE|DEG_URBAN_NAME|SRNS|             RMA|  DIVIDED|STAT_DIV_NAME|\n",
            "+------------+-------------+-------------+--------------------+-----------+--------+--------------------+--------------------+-------------+-------------------+--------------------+----------+-----------+-----------+---------+------------+--------------------+-------------+----------+----------+-----------+-----------+-------------+------------+--------+-------------+-----------+----------+-----+-------+---------+---------+------+----------+-------+------------+-------+----------------+-----------------+-------------------+----------------------+------------------+--------------+------------+----------------+----------+----------+--------------+----+----------------+---------+-------------+\n",
            "|T20120000009|     20120101|        22500|Collision with a ...|     Sunday|     171|LEFT OFF CARRIAGE...|Dark No street li...|          Yes|Not at intersection|Other injury acci...| 100 km/hr|        Yes|WESTERNPORT|     ROAD|        5707|             BAW BAW|    GIPPSLAND|-38.234957|145.726709|2563628.962|2362700.434|            2|           2|       0|            0|          2|         0|    2|      0|        0|        1|     1|         0|      0|           0|      0|               0|                0|                  0|                     0|                 1|             1|           0|               1|         0|         0|RURAL_VICTORIA|   C|  Arterial Other|Undivided|      Country|\n",
            "|T20120000012|     20120101|        20000|Collision with ve...|     Sunday|     110|CROSS TRAFFIC(INT...|Dark Street light...|          Yes| Cross intersection|Serious injury ac...|  80 km/hr|         No| SPRINGVALE|     ROAD|        2400|              MONASH|  INNER METRO|-37.903541|145.161404|2514194.683|2399718.586|            3|           1|       0|            1|          0|         2|    2|      0|        0|        1|     2|         0|      0|           0|      0|               0|                0|                  0|                     0|                 0|             2|           0|               2|         0|         0|    MELB_URBAN|NULL|            NULL|     NULL|        Metro|\n",
            "|T20120000013|     20120101|        33500|Collision with ve...|     Sunday|     160|VEHICLE COLLIDES ...|Dark Street light...|          Yes|     T intersection|Serious injury ac...|  60 km/hr|         No|   CLARINDA|     ROAD|        5306|            KINGSTON|  INNER METRO| -37.93594|145.098848| 2508689.41|2396130.003|            1|           1|       0|            1|          0|         0|    0|      1|        0|        0|     1|         0|      0|           0|      0|               0|                0|                  0|                     0|                 0|             2|           0|               2|         0|         0|    MELB_URBAN|NULL|  Arterial Other|Undivided|        Metro|\n",
            "|T20120000018|     20120101|        51500|Collision with a ...|     Sunday|     173|RIGHT OFF CARRIAG...|Dark No street li...|          Yes| Cross intersection|Other injury acci...| 100 km/hr|        Yes|      STURT|  HIGHWAY|        2610|             MILDURA|LODDON MALLEE|-34.215874|142.043881|2227360.371|2804744.001|            1|           1|       0|            0|          1|         0|    1|      0|        0|        0|     1|         0|      0|           0|      0|               0|                0|                  0|                     0|                 0|             1|           0|               1|         0|         0|RURAL_VICTORIA|   A|Arterial Highway|Undivided|      Country|\n",
            "|T20120000021|     20120101|        73000|Collision with a ...|     Sunday|     171|LEFT OFF CARRIAGE...|                 Day|          Yes|Not at intersection|Other injury acci...|  50 km/hr|        Yes|    WILLIAM|     ROAD|        9999|MORNINGTON PENINSULA|GREATER METRO|-38.369561| 144.77793|2480590.789|2347977.747|            3|           2|       0|            0|          2|         1|    2|      1|        0|        2|     1|         0|      0|           0|      0|               0|                0|                  0|                     0|                 1|             1|           0|               1|         0|         0|    MELB_URBAN|NULL|      Local Road|Undivided|        Metro|\n",
            "+------------+-------------+-------------+--------------------+-----------+--------+--------------------+--------------------+-------------+-------------------+--------------------+----------+-----------+-----------+---------+------------+--------------------+-------------+----------+----------+-----------+-----------+-------------+------------+--------+-------------+-----------+----------+-----+-------+---------+---------+------+----------+-------+------------+-------+----------------+-----------------+-------------------+----------------------+------------------+--------------+------------+----------------+----------+----------+--------------+----+----------------+---------+-------------+\n",
            "only showing top 5 rows\n",
            "\n"
          ]
        }
      ]
    },
    {
      "cell_type": "code",
      "source": [
        "# Check schema to understand data types\n",
        "df.printSchema()\n",
        "\n",
        "# Summary statistics\n",
        "df.describe().show()\n",
        "\n",
        "# Count rows\n",
        "print(f\"Total rows: {df.count()}\")\n"
      ],
      "metadata": {
        "colab": {
          "base_uri": "https://localhost:8080/"
        },
        "id": "2d5sih5JDZdQ",
        "outputId": "6511f628-d590-4c0f-e16d-8097730d34f5"
      },
      "execution_count": 14,
      "outputs": [
        {
          "output_type": "stream",
          "name": "stdout",
          "text": [
            "root\n",
            " |-- ACCIDENT_NO: string (nullable = true)\n",
            " |-- ACCIDENT_DATE: integer (nullable = true)\n",
            " |-- ACCIDENT_TIME: integer (nullable = true)\n",
            " |-- ACCIDENT_TYPE: string (nullable = true)\n",
            " |-- DAY_OF_WEEK: string (nullable = true)\n",
            " |-- DCA_CODE: integer (nullable = true)\n",
            " |-- DCA_CODE_DESCRIPTION: string (nullable = true)\n",
            " |-- LIGHT_CONDITION: string (nullable = true)\n",
            " |-- POLICE_ATTEND: string (nullable = true)\n",
            " |-- ROAD_GEOMETRY: string (nullable = true)\n",
            " |-- SEVERITY: string (nullable = true)\n",
            " |-- SPEED_ZONE: string (nullable = true)\n",
            " |-- RUN_OFFROAD: string (nullable = true)\n",
            " |-- ROAD_NAME: string (nullable = true)\n",
            " |-- ROAD_TYPE: string (nullable = true)\n",
            " |-- ROAD_ROUTE_1: integer (nullable = true)\n",
            " |-- LGA_NAME: string (nullable = true)\n",
            " |-- DTP_REGION: string (nullable = true)\n",
            " |-- LATITUDE: double (nullable = true)\n",
            " |-- LONGITUDE: double (nullable = true)\n",
            " |-- VICGRID_X: double (nullable = true)\n",
            " |-- VICGRID_Y: double (nullable = true)\n",
            " |-- TOTAL_PERSONS: integer (nullable = true)\n",
            " |-- INJ_OR_FATAL: integer (nullable = true)\n",
            " |-- FATALITY: integer (nullable = true)\n",
            " |-- SERIOUSINJURY: integer (nullable = true)\n",
            " |-- OTHERINJURY: integer (nullable = true)\n",
            " |-- NONINJURED: integer (nullable = true)\n",
            " |-- MALES: integer (nullable = true)\n",
            " |-- FEMALES: integer (nullable = true)\n",
            " |-- BICYCLIST: integer (nullable = true)\n",
            " |-- PASSENGER: integer (nullable = true)\n",
            " |-- DRIVER: integer (nullable = true)\n",
            " |-- PEDESTRIAN: integer (nullable = true)\n",
            " |-- PILLION: integer (nullable = true)\n",
            " |-- MOTORCYCLIST: integer (nullable = true)\n",
            " |-- UNKNOWN: integer (nullable = true)\n",
            " |-- PED_CYCLIST_5_12: integer (nullable = true)\n",
            " |-- PED_CYCLIST_13_18: integer (nullable = true)\n",
            " |-- OLD_PED_65_AND_OVER: integer (nullable = true)\n",
            " |-- OLD_DRIVER_75_AND_OVER: integer (nullable = true)\n",
            " |-- YOUNG_DRIVER_18_25: integer (nullable = true)\n",
            " |-- NO_OF_VEHICLES: integer (nullable = true)\n",
            " |-- HEAVYVEHICLE: integer (nullable = true)\n",
            " |-- PASSENGERVEHICLE: integer (nullable = true)\n",
            " |-- MOTORCYCLE: integer (nullable = true)\n",
            " |-- PT_VEHICLE: integer (nullable = true)\n",
            " |-- DEG_URBAN_NAME: string (nullable = true)\n",
            " |-- SRNS: string (nullable = true)\n",
            " |-- RMA: string (nullable = true)\n",
            " |-- DIVIDED: string (nullable = true)\n",
            " |-- STAT_DIV_NAME: string (nullable = true)\n",
            "\n",
            "+-------+------------+--------------------+------------------+--------------------+-----------+------------------+--------------------+--------------------+-------------+------------------+--------------------+-----------------+-----------+---------+---------+------------------+------------+--------------------+------------------+------------------+-----------------+------------------+-----------------+-----------------+--------------------+------------------+------------------+------------------+------------------+------------------+-------------------+------------------+------------------+-------------------+--------------------+-------------------+--------------------+--------------------+--------------------+-------------------+----------------------+------------------+------------------+-------------------+------------------+-------------------+-------------------+--------------------+-----+----------------+---------+-------------+\n",
            "|summary| ACCIDENT_NO|       ACCIDENT_DATE|     ACCIDENT_TIME|       ACCIDENT_TYPE|DAY_OF_WEEK|          DCA_CODE|DCA_CODE_DESCRIPTION|     LIGHT_CONDITION|POLICE_ATTEND|     ROAD_GEOMETRY|            SEVERITY|       SPEED_ZONE|RUN_OFFROAD|ROAD_NAME|ROAD_TYPE|      ROAD_ROUTE_1|    LGA_NAME|          DTP_REGION|          LATITUDE|         LONGITUDE|        VICGRID_X|         VICGRID_Y|    TOTAL_PERSONS|     INJ_OR_FATAL|            FATALITY|     SERIOUSINJURY|       OTHERINJURY|        NONINJURED|             MALES|           FEMALES|          BICYCLIST|         PASSENGER|            DRIVER|         PEDESTRIAN|             PILLION|       MOTORCYCLIST|             UNKNOWN|    PED_CYCLIST_5_12|   PED_CYCLIST_13_18|OLD_PED_65_AND_OVER|OLD_DRIVER_75_AND_OVER|YOUNG_DRIVER_18_25|    NO_OF_VEHICLES|       HEAVYVEHICLE|  PASSENGERVEHICLE|         MOTORCYCLE|         PT_VEHICLE|      DEG_URBAN_NAME| SRNS|             RMA|  DIVIDED|STAT_DIV_NAME|\n",
            "+-------+------------+--------------------+------------------+--------------------+-----------+------------------+--------------------+--------------------+-------------+------------------+--------------------+-----------------+-----------+---------+---------+------------------+------------+--------------------+------------------+------------------+-----------------+------------------+-----------------+-----------------+--------------------+------------------+------------------+------------------+------------------+------------------+-------------------+------------------+------------------+-------------------+--------------------+-------------------+--------------------+--------------------+--------------------+-------------------+----------------------+------------------+------------------+-------------------+------------------+-------------------+-------------------+--------------------+-----+----------------+---------+-------------+\n",
            "|  count|      169767|              169767|            169767|              169767|     169767|            169767|              169767|              169767|       169767|            169767|              169767|           169767|     169767|   169397|   167319|            169767|      169767|              169767|            169767|            169767|           169767|            169767|           169767|           169767|              169767|            169767|            169767|            169767|            169767|            169767|             169767|            169767|            169767|             169767|              169767|             169767|              169767|              169767|              169767|             169767|                169767|            169767|            169765|             169765|            169765|             169765|             169765|              168772|44653|          149761|   149761|       168764|\n",
            "|   mean|        NULL|2.0175263324126597E7|134976.95076192665|                NULL|       NULL|138.83510340643352|                NULL|                NULL|         NULL|              NULL|                NULL|             NULL|       NULL|     NULL|     NULL| 6483.967390600058|        NULL|                NULL|-37.71526212518354|144.97025532729626| 2497285.74930044|2420321.9203676363|2.368281232512797|1.305907508526392|0.017706621428192758|0.4218075362113956|0.8663933508868037|1.0312899444532801|  1.31443095536824|0.9435049214511654|0.10038464483674683|0.4861427721524207|1.4910966206624374|0.09400531316451372|0.005230698545653749|0.14245406940100255|0.048955332897441785|0.008994680945059993|0.016157439313883144|0.01818963638398511|   0.06760442253205864|0.3018902377965093|1.8236680116631814|0.04827261214031161|1.4473595853091037|0.14281506788796278|0.01232880746914853|                NULL| NULL|            NULL|     NULL|         NULL|\n",
            "| stddev|        NULL|   34614.90455355224| 50914.63100515709|                NULL|       NULL|  26.0131093013359|                NULL|                NULL|         NULL|              NULL|                NULL|             NULL|       NULL|     NULL|     NULL|3012.6421645199152|        NULL|                NULL|0.5593581980201872|0.8033712540759421|71326.71376447665| 61781.94218259252|1.451480605192489|0.765488782949576| 0.14384664609276657|0.6255602398840762|0.7963073403263456|1.2209509712013997|0.9921575412252135|1.0440707528879039|0.31209007497815966| 1.125028946979931|0.8878418848827515| 0.3171593334701078| 0.07302711229512107|  0.358862794457827| 0.36152223621199003| 0.09921956461319327| 0.13039891399598588|0.13677391962946986|   0.25755211907272507|0.5201024897134748|0.7501894623724311| 0.2265017005040456|0.9119116394370065| 0.3594844899403472|0.11125267518773925|                NULL| NULL|            NULL|     NULL|         NULL|\n",
            "|    min|T20120000009|            20120101|                 0|Collision with a ...|     Friday|               100|ACCIDENT OR BROKE...|Dark No street li...|           No|Cross intersection|      Fatal accident|        100 km/hr|         No|         |         |                -1|            |   BARWON SOUTH WEST|         -39.03083|        140.966483|      2129485.022|       2273772.291|                1|                0|                   0|                 0|                 0|                 0|                 0|                 0|                  0|                 0|                 0|                  0|                   0|                  0|                   0|                   0|                   0|                  0|                     0|                 0|                 1|                  0|                 0|                  0|                  0|LARGE_PROVINCIAL_...|    A|Arterial Highway|  Divided|      Country|\n",
            "|    max|T20240017857|            20231130|            235900|collision with so...|  Wednesday|               199|VEHICLE STRIKES D...|                Unk.|          Yes|    Y intersection|Serious injury ac...|Other speed limit|        Yes|     ZINA|     WYND|              9999|YARRIAMBIACK|METROPOLITAN SOUT...|        -34.115694|        149.757468|      2920148.029|       2815696.123|               97|               48|                   5|                16|                43|                87|                46|                51|                  8|                95|                21|                 11|                   2|                  9|                  52|                   8|                   5|                  3|                     3|                 5|                21|                  4|                19|                  9|                  2|               TOWNS|    M|    Non Arterial|Undivided|        Metro|\n",
            "+-------+------------+--------------------+------------------+--------------------+-----------+------------------+--------------------+--------------------+-------------+------------------+--------------------+-----------------+-----------+---------+---------+------------------+------------+--------------------+------------------+------------------+-----------------+------------------+-----------------+-----------------+--------------------+------------------+------------------+------------------+------------------+------------------+-------------------+------------------+------------------+-------------------+--------------------+-------------------+--------------------+--------------------+--------------------+-------------------+----------------------+------------------+------------------+-------------------+------------------+-------------------+-------------------+--------------------+-----+----------------+---------+-------------+\n",
            "\n",
            "Total rows: 169767\n"
          ]
        }
      ]
    },
    {
      "cell_type": "code",
      "source": [
        "# Categorical columns to index\n",
        "categorical_columns = [\n",
        "    \"ACCIDENT_TYPE\",\n",
        "    \"DAY_OF_WEEK\",\n",
        "    \"LIGHT_CONDITION\",\n",
        "    \"POLICE_ATTEND\",\n",
        "    \"ROAD_GEOMETRY\",\n",
        "    \"ROAD_TYPE\"\n",
        "]\n",
        "\n",
        "# StringIndexer for categorical columns\n",
        "indexers = [StringIndexer(inputCol=col, outputCol=col + \"_Index\", handleInvalid='skip') for col in categorical_columns]\n",
        "\n",
        "# Numeric columns (you can add more based on your use-case)\n",
        "numeric_columns = [\"TOTAL_PERSONS\", \"INJ_OR_FATAL\", \"FATALITY\", \"SERIOUSINJURY\", \"OTHERINJURY\"]\n",
        "\n",
        "# All features to be combined\n",
        "feature_cols = [col + \"_Index\" for col in categorical_columns] + numeric_columns\n",
        "\n",
        "# Assemble feature vector\n",
        "assembler = VectorAssembler(inputCols=feature_cols, outputCol=\"features\")\n"
      ],
      "metadata": {
        "id": "tJBIYuymDejg"
      },
      "execution_count": 16,
      "outputs": []
    },
    {
      "cell_type": "code",
      "source": [
        "# Drop rows with nulls if needed\n",
        "df = df.dropna(subset=[\"SEVERITY\"])\n",
        "\n",
        "# Split dataset\n",
        "train_data, test_data = df.randomSplit([0.8, 0.2], seed=42)\n",
        "\n",
        "# Fit the model\n",
        "model = pipeline.fit(train_data)\n"
      ],
      "metadata": {
        "id": "xC3aq6-VDhRF"
      },
      "execution_count": 18,
      "outputs": []
    },
    {
      "cell_type": "code",
      "source": [
        "# Predict on test data\n",
        "predictions = model.transform(test_data)\n",
        "\n",
        "# Show some predictions\n",
        "predictions.select(\"features\", \"label\", \"prediction\", \"probability\").show(10)\n",
        "\n",
        "# Evaluate the model\n",
        "from pyspark.ml.evaluation import MulticlassClassificationEvaluator\n",
        "\n",
        "evaluator = MulticlassClassificationEvaluator(labelCol=\"label\", predictionCol=\"prediction\", metricName=\"accuracy\")\n",
        "accuracy = evaluator.evaluate(predictions)\n",
        "print(f\"Model Accuracy: {accuracy:.2f}\")\n"
      ],
      "metadata": {
        "colab": {
          "base_uri": "https://localhost:8080/"
        },
        "id": "nn7lA6pbDkI2",
        "outputId": "ab74ed9c-2d9b-45cd-e052-db94e5c2f9b0"
      },
      "execution_count": 19,
      "outputs": [
        {
          "output_type": "stream",
          "name": "stdout",
          "text": [
            "+--------------------+-----+----------+--------------------+\n",
            "|            features|label|prediction|         probability|\n",
            "+--------------------+-----+----------+--------------------+\n",
            "|(11,[1,2,4,6,7,9]...|  1.0|       1.0|[2.55895007498426...|\n",
            "|[2.0,6.0,1.0,1.0,...|  0.0|       0.0|[0.99978436886140...|\n",
            "|(11,[1,4,6,7,9],[...|  1.0|       1.0|[2.19367416512849...|\n",
            "|(11,[0,1,4,6,7,9]...|  1.0|       1.0|[3.22932762349599...|\n",
            "|(11,[0,1,2,6,7,10...|  0.0|       0.0|[0.99963532540018...|\n",
            "|(11,[1,3,4,6,7,9]...|  1.0|       1.0|[5.13682543236677...|\n",
            "|(11,[0,1,5,6,7,9]...|  1.0|       1.0|[2.54052841074104...|\n",
            "|(11,[1,6,7,9],[5....|  1.0|       1.0|[2.27697264375122...|\n",
            "|[1.0,5.0,0.0,0.0,...|  0.0|       0.0|[0.99952925216154...|\n",
            "|(11,[1,4,6,7,9],[...|  1.0|       1.0|[1.96413926838400...|\n",
            "+--------------------+-----+----------+--------------------+\n",
            "only showing top 10 rows\n",
            "\n",
            "Model Accuracy: 1.00\n"
          ]
        }
      ]
    }
  ]
}